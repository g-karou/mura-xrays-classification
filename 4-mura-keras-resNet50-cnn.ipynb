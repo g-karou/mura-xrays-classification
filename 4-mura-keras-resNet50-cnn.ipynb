{
 "cells": [
  {
   "cell_type": "code",
   "execution_count": 1,
   "metadata": {
    "_cell_guid": "b1076dfc-b9ad-4769-8c92-a6c4dae69d19",
    "_uuid": "8f2839f25d086af736a60e9eeb907d3b93b6e0e5"
   },
   "outputs": [
    {
     "name": "stderr",
     "output_type": "stream",
     "text": [
      "Using TensorFlow backend.\n"
     ]
    }
   ],
   "source": [
    "import tensorflow as tf\n",
    "from tensorflow.keras import layers\n",
    "from skimage.io import imshow\n",
    "from pathlib import Path\n",
    "import pandas as pd\n",
    "import time\n",
    "import matplotlib.pyplot as plt\n",
    "from keras.utils import plot_model\n",
    "from keras.utils.vis_utils import *\n",
    "import keras\n",
    "import importlib\n",
    "import pydot\n",
    "from IPython.display import Image "
   ]
  },
  {
   "cell_type": "code",
   "execution_count": 2,
   "metadata": {
    "_cell_guid": "79c7e3d0-c299-4dcb-8224-4455121ee9b0",
    "_uuid": "d629ff2d2480ee46fbb7e2d37f6b5fab8052498a"
   },
   "outputs": [],
   "source": [
    "dataset_root = Path('../MURA-v1.1')"
   ]
  },
  {
   "cell_type": "code",
   "execution_count": 3,
   "metadata": {
    "_uuid": "b3932bbc913332722b52ec872eb7d31925f2193b"
   },
   "outputs": [
    {
     "data": {
      "text/html": [
       "<div>\n",
       "<style scoped>\n",
       "    .dataframe tbody tr th:only-of-type {\n",
       "        vertical-align: middle;\n",
       "    }\n",
       "\n",
       "    .dataframe tbody tr th {\n",
       "        vertical-align: top;\n",
       "    }\n",
       "\n",
       "    .dataframe thead th {\n",
       "        text-align: right;\n",
       "    }\n",
       "</style>\n",
       "<table border=\"1\" class=\"dataframe\">\n",
       "  <thead>\n",
       "    <tr style=\"text-align: right;\">\n",
       "      <th></th>\n",
       "      <th>filename</th>\n",
       "    </tr>\n",
       "  </thead>\n",
       "  <tbody>\n",
       "    <tr>\n",
       "      <th>0</th>\n",
       "      <td>MURA-v1.1/train/XR_SHOULDER/patient00001/study...</td>\n",
       "    </tr>\n",
       "    <tr>\n",
       "      <th>1</th>\n",
       "      <td>MURA-v1.1/train/XR_SHOULDER/patient00001/study...</td>\n",
       "    </tr>\n",
       "    <tr>\n",
       "      <th>2</th>\n",
       "      <td>MURA-v1.1/train/XR_SHOULDER/patient00001/study...</td>\n",
       "    </tr>\n",
       "    <tr>\n",
       "      <th>3</th>\n",
       "      <td>MURA-v1.1/train/XR_SHOULDER/patient00002/study...</td>\n",
       "    </tr>\n",
       "    <tr>\n",
       "      <th>4</th>\n",
       "      <td>MURA-v1.1/train/XR_SHOULDER/patient00002/study...</td>\n",
       "    </tr>\n",
       "  </tbody>\n",
       "</table>\n",
       "</div>"
      ],
      "text/plain": [
       "                                            filename\n",
       "0  MURA-v1.1/train/XR_SHOULDER/patient00001/study...\n",
       "1  MURA-v1.1/train/XR_SHOULDER/patient00001/study...\n",
       "2  MURA-v1.1/train/XR_SHOULDER/patient00001/study...\n",
       "3  MURA-v1.1/train/XR_SHOULDER/patient00002/study...\n",
       "4  MURA-v1.1/train/XR_SHOULDER/patient00002/study..."
      ]
     },
     "execution_count": 3,
     "metadata": {},
     "output_type": "execute_result"
    }
   ],
   "source": [
    "df = pd.read_csv(dataset_root/'train_image_paths.csv', header=None, names=['filename'])\n",
    "df.head()"
   ]
  },
  {
   "cell_type": "code",
   "execution_count": 4,
   "metadata": {
    "_uuid": "5c2be293692631f3dcb48bcec98f0b5d6d45735a"
   },
   "outputs": [
    {
     "data": {
      "text/html": [
       "<div>\n",
       "<style scoped>\n",
       "    .dataframe tbody tr th:only-of-type {\n",
       "        vertical-align: middle;\n",
       "    }\n",
       "\n",
       "    .dataframe tbody tr th {\n",
       "        vertical-align: top;\n",
       "    }\n",
       "\n",
       "    .dataframe thead th {\n",
       "        text-align: right;\n",
       "    }\n",
       "</style>\n",
       "<table border=\"1\" class=\"dataframe\">\n",
       "  <thead>\n",
       "    <tr style=\"text-align: right;\">\n",
       "      <th></th>\n",
       "      <th>filename</th>\n",
       "      <th>class</th>\n",
       "    </tr>\n",
       "  </thead>\n",
       "  <tbody>\n",
       "    <tr>\n",
       "      <th>0</th>\n",
       "      <td>MURA-v1.1/train/XR_SHOULDER/patient00001/study...</td>\n",
       "      <td>positive</td>\n",
       "    </tr>\n",
       "    <tr>\n",
       "      <th>1</th>\n",
       "      <td>MURA-v1.1/train/XR_SHOULDER/patient00001/study...</td>\n",
       "      <td>positive</td>\n",
       "    </tr>\n",
       "    <tr>\n",
       "      <th>2</th>\n",
       "      <td>MURA-v1.1/train/XR_SHOULDER/patient00001/study...</td>\n",
       "      <td>positive</td>\n",
       "    </tr>\n",
       "    <tr>\n",
       "      <th>3</th>\n",
       "      <td>MURA-v1.1/train/XR_SHOULDER/patient00002/study...</td>\n",
       "      <td>positive</td>\n",
       "    </tr>\n",
       "    <tr>\n",
       "      <th>4</th>\n",
       "      <td>MURA-v1.1/train/XR_SHOULDER/patient00002/study...</td>\n",
       "      <td>positive</td>\n",
       "    </tr>\n",
       "  </tbody>\n",
       "</table>\n",
       "</div>"
      ],
      "text/plain": [
       "                                            filename     class\n",
       "0  MURA-v1.1/train/XR_SHOULDER/patient00001/study...  positive\n",
       "1  MURA-v1.1/train/XR_SHOULDER/patient00001/study...  positive\n",
       "2  MURA-v1.1/train/XR_SHOULDER/patient00001/study...  positive\n",
       "3  MURA-v1.1/train/XR_SHOULDER/patient00002/study...  positive\n",
       "4  MURA-v1.1/train/XR_SHOULDER/patient00002/study...  positive"
      ]
     },
     "execution_count": 4,
     "metadata": {},
     "output_type": "execute_result"
    }
   ],
   "source": [
    "df['class'] = (df.filename\n",
    "               .str.extract('study.*_(positive|negative)'))\n",
    "df.head()"
   ]
  },
  {
   "cell_type": "code",
   "execution_count": 5,
   "metadata": {
    "_uuid": "74476f57dda152e5e4cbbede728680df2e38857d"
   },
   "outputs": [],
   "source": [
    "def generate_df(dataset_root, csv_name):\n",
    "    df = pd.read_csv(dataset_root/csv_name, header=None, names=['filename'])\n",
    "    df['class'] = (df.filename\n",
    "               .str.extract('study.*_(positive|negative)'))\n",
    "    return df"
   ]
  },
  {
   "cell_type": "code",
   "execution_count": 6,
   "metadata": {
    "_uuid": "591a160a1faa10d7e0721f0a4d0be7203cce3fc4"
   },
   "outputs": [
    {
     "data": {
      "text/plain": [
       "[PosixPath('../Notebooks 2019-20'),\n",
       " PosixPath('../.DS_Store'),\n",
       " PosixPath('../MURA-v1.1'),\n",
       " PosixPath('../DeepLearning2.ipynb'),\n",
       " PosixPath('../exec2'),\n",
       " PosixPath('../fashion-mnist-image-classification'),\n",
       " PosixPath('../.ipynb_checkpoints'),\n",
       " PosixPath('../Lectures 2019-20')]"
      ]
     },
     "execution_count": 6,
     "metadata": {},
     "output_type": "execute_result"
    }
   ],
   "source": [
    "list(dataset_root.parent.iterdir())"
   ]
  },
  {
   "cell_type": "code",
   "execution_count": 7,
   "metadata": {
    "_uuid": "6c2bbf9b6dfa5fb5a16584b2bc85a0c0d52c2640"
   },
   "outputs": [
    {
     "name": "stdout",
     "output_type": "stream",
     "text": [
      "Found 36808 images belonging to 2 classes.\n",
      "Found 3197 images belonging to 2 classes.\n"
     ]
    }
   ],
   "source": [
    "from keras.applications.resnet50 import preprocess_input\n",
    "\n",
    "batch_size=32\n",
    "img_height=244\n",
    "img_width=244\n",
    "nb_epochs = 10\n",
    "\n",
    "datagen = keras.preprocessing.image.ImageDataGenerator(preprocessing_function=preprocess_input,\n",
    "                                                       shear_range=0.2,\n",
    "                                                       zoom_range=0.2,\n",
    "                                                       rotation_range = 30, \n",
    "                                                       horizontal_flip=True)\n",
    "\n",
    "train_generator = datagen.flow_from_dataframe(\n",
    "    generate_df(dataset_root, 'train_image_paths.csv'),\n",
    "    directory=dataset_root.parent,\n",
    "    target_size=(img_height, img_width),\n",
    "    batch_size=batch_size,\n",
    "    class_mode='binary',\n",
    "    subset='training') # set as training data\n",
    "\n",
    "validation_generator = datagen.flow_from_dataframe(generate_df(dataset_root, 'valid_image_paths.csv'),\n",
    "    directory=dataset_root.parent,\n",
    "    target_size=(img_height, img_width),\n",
    "    batch_size=batch_size,\n",
    "    class_mode='binary')"
   ]
  },
  {
   "cell_type": "code",
   "execution_count": 9,
   "metadata": {},
   "outputs": [],
   "source": [
    "def plotAccuracyLoss(someHistory):\n",
    "    plt.style.use('dark_background')\n",
    "    plt.rcParams['font.size'] = 14\n",
    "    plt.figure(1, figsize = (15,8)) \n",
    "    plt.subplot(221)  \n",
    "    plt.plot(someHistory.history['acc'])  \n",
    "    plt.plot(someHistory.history['val_acc'])  \n",
    "    plt.title('Model Accuracy')  \n",
    "    plt.ylabel('Accuracy')  \n",
    "    plt.xlabel('Epochs')  \n",
    "    plt.legend(['train', 'valid'], loc='upper left')\n",
    "\n",
    "    plt.subplot(222)  \n",
    "    plt.plot(someHistory.history['loss'])  \n",
    "    plt.plot(someHistory.history['val_loss'])  \n",
    "    plt.title('Model Loss')  \n",
    "    plt.ylabel('Loss')\n",
    "    plt.xlabel('Epochs')\n",
    "    plt.legend(['train', 'valid'], loc='upper left')\n",
    "\n",
    "    plt.show()"
   ]
  },
  {
   "cell_type": "code",
   "execution_count": 25,
   "metadata": {},
   "outputs": [],
   "source": [
    "# Early stopping & checkpointing the best model\n",
    "from tensorflow.python.keras.callbacks import EarlyStopping, ModelCheckpoint\n",
    "\n",
    "cb_early_stopper = EarlyStopping(monitor = 'val_loss', patience = 2)\n",
    "cb_checkpointer = ModelCheckpoint(filepath = 'output/best.hdf5', monitor = 'val_loss', save_best_only = True, mode = 'auto')"
   ]
  },
  {
   "cell_type": "markdown",
   "metadata": {},
   "source": [
    "## DenseNet 50"
   ]
  },
  {
   "cell_type": "code",
   "execution_count": 33,
   "metadata": {},
   "outputs": [],
   "source": [
    "from keras.layers import *\n",
    "from keras.models import Sequential\n",
    "from keras.applications.resnet50 import ResNet50"
   ]
  },
  {
   "cell_type": "code",
   "execution_count": 34,
   "metadata": {},
   "outputs": [],
   "source": [
    "resNet = ResNet50(\n",
    "    weights= 'imagenet',\n",
    "    include_top = False, \n",
    "    input_shape=(img_height, img_width, 3), \n",
    "    pooling='avg')"
   ]
  },
  {
   "cell_type": "code",
   "execution_count": 35,
   "metadata": {},
   "outputs": [],
   "source": [
    "resNet.trainable = False"
   ]
  },
  {
   "cell_type": "code",
   "execution_count": 36,
   "metadata": {},
   "outputs": [
    {
     "name": "stdout",
     "output_type": "stream",
     "text": [
      "_________________________________________________________________\n",
      "Layer (type)                 Output Shape              Param #   \n",
      "=================================================================\n",
      "resnet50 (Model)             (None, 2048)              23587712  \n",
      "_________________________________________________________________\n",
      "dense_2 (Dense)              (None, 1)                 2049      \n",
      "=================================================================\n",
      "Total params: 23,589,761\n",
      "Trainable params: 2,049\n",
      "Non-trainable params: 23,587,712\n",
      "_________________________________________________________________\n"
     ]
    }
   ],
   "source": [
    "modelCNN2 = Sequential([\n",
    "    resNet,\n",
    "    Dense(1, activation='sigmoid')\n",
    "])\n",
    "modelCNN2.summary()"
   ]
  },
  {
   "cell_type": "code",
   "execution_count": 37,
   "metadata": {},
   "outputs": [],
   "source": [
    "modelCNN2.compile(loss=keras.losses.binary_crossentropy,\n",
    "              optimizer=keras.optimizers.Adam(),\n",
    "              metrics=['accuracy'])"
   ]
  },
  {
   "cell_type": "code",
   "execution_count": null,
   "metadata": {
    "scrolled": false
   },
   "outputs": [
    {
     "name": "stdout",
     "output_type": "stream",
     "text": [
      "WARNING:tensorflow:From /Library/Frameworks/Python.framework/Versions/3.7/lib/python3.7/site-packages/tensorflow/python/ops/math_ops.py:3066: to_int32 (from tensorflow.python.ops.math_ops) is deprecated and will be removed in a future version.\n",
      "Instructions for updating:\n",
      "Use tf.cast instead.\n",
      "Epoch 1/10\n",
      "1150/1150 [==============================] - 17988s 16s/step - loss: 0.5873 - acc: 0.6927 - val_loss: 1.4850 - val_acc: 0.5215\n",
      "Epoch 2/10\n",
      "1150/1150 [==============================] - 14432s 13s/step - loss: 0.5558 - acc: 0.7224 - val_loss: 1.2710 - val_acc: 0.5359\n",
      "Epoch 3/10\n",
      "1150/1150 [==============================] - 14352s 12s/step - loss: 0.5463 - acc: 0.7306 - val_loss: 1.6557 - val_acc: 0.5242\n",
      "Epoch 4/10\n",
      "1150/1150 [==============================] - 15399s 13s/step - loss: 0.5446 - acc: 0.7318 - val_loss: 1.2218 - val_acc: 0.5355\n",
      "Epoch 5/10\n",
      "1150/1150 [==============================] - 18523s 16s/step - loss: 0.5396 - acc: 0.7360 - val_loss: 1.1202 - val_acc: 0.5520\n",
      "Epoch 6/10\n",
      " 141/1150 [==>...........................] - ETA: 3:46:21 - loss: 0.5494 - acc: 0.7292"
     ]
    }
   ],
   "source": [
    "STEP_SIZE_TRAIN=train_generator.samples//batch_size\n",
    "STEP_SIZE_VALID=validation_generator.samples//batch_size\n",
    "\n",
    "t_start = time.time()\n",
    "\n",
    "historyCNN2 = modelCNN2.fit_generator(generator=train_generator,\n",
    "                    steps_per_epoch=STEP_SIZE_TRAIN,\n",
    "                    validation_data=validation_generator,\n",
    "                    validation_steps=STEP_SIZE_VALID,\n",
    "                    epochs=nb_epochs,\n",
    "                    callbacks=[cb_checkpointer, cb_early_stopper],\n",
    "                    use_multiprocessing=True\n",
    ")"
   ]
  },
  {
   "cell_type": "code",
   "execution_count": null,
   "metadata": {
    "scrolled": false
   },
   "outputs": [],
   "source": [
    "# Print the network architecture diagram\n",
    "plot_model(modelCNN2, to_file='output/img_model/cnn_resNet2.png', show_shapes=True)\n",
    "Image('output/img_model/cnn_resNet.png')"
   ]
  },
  {
   "cell_type": "code",
   "execution_count": null,
   "metadata": {
    "scrolled": false
   },
   "outputs": [],
   "source": [
    "# Print resNet architecture diagram\n",
    "plot_model(resNet, to_file='output/img_model/resNet_arch2.png', show_shapes=True)\n",
    "Image('output/img_model/resNet_arch.png')"
   ]
  },
  {
   "cell_type": "code",
   "execution_count": null,
   "metadata": {},
   "outputs": [],
   "source": [
    "modelCNN2.metrics_names"
   ]
  },
  {
   "cell_type": "code",
   "execution_count": null,
   "metadata": {},
   "outputs": [],
   "source": [
    "modelCNN2.evaluate_generator(generator=validation_generator,steps=STEP_SIZE_TRAIN)"
   ]
  },
  {
   "cell_type": "code",
   "execution_count": null,
   "metadata": {},
   "outputs": [],
   "source": [
    "t_finish = time.time()\n",
    "print(f\"Kernel run time = {(t_finish-t_start)/3600} hours\")"
   ]
  },
  {
   "cell_type": "code",
   "execution_count": null,
   "metadata": {},
   "outputs": [],
   "source": [
    "print(historyCNN2.history.keys())"
   ]
  },
  {
   "cell_type": "code",
   "execution_count": null,
   "metadata": {},
   "outputs": [],
   "source": [
    "plotAccuracyLoss(historyCNN2)"
   ]
  },
  {
   "cell_type": "code",
   "execution_count": null,
   "metadata": {},
   "outputs": [],
   "source": []
  },
  {
   "cell_type": "code",
   "execution_count": null,
   "metadata": {},
   "outputs": [],
   "source": []
  },
  {
   "cell_type": "code",
   "execution_count": null,
   "metadata": {},
   "outputs": [],
   "source": []
  }
 ],
 "metadata": {
  "kernelspec": {
   "display_name": "Python 3",
   "language": "python",
   "name": "python3"
  },
  "language_info": {
   "codemirror_mode": {
    "name": "ipython",
    "version": 3
   },
   "file_extension": ".py",
   "mimetype": "text/x-python",
   "name": "python",
   "nbconvert_exporter": "python",
   "pygments_lexer": "ipython3",
   "version": "3.7.2"
  }
 },
 "nbformat": 4,
 "nbformat_minor": 1
}
